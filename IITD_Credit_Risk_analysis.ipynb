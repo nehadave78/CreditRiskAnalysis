{
 "cells": [
  {
   "cell_type": "code",
   "execution_count": null,
   "id": "2dfbcd93-7746-4561-ab34-e3741865dc02",
   "metadata": {},
   "outputs": [],
   "source": [
    "# install Libraries \n",
    "!pip install qiskit-finance"
   ]
  },
  {
   "cell_type": "markdown",
   "id": "e4df79d4-0469-4094-8e9a-9475df3cb948",
   "metadata": {},
   "source": [
    "Credit Risk Portfolio analysis\n",
    "Portfolio analysis is the process of evaluating and assessing a collection of investments, known as a portfolio, to understand its performance, risks, and potential returns.\n",
    "VaR is an acronym of ‘Value at Risk\n"
   ]
  },
  {
   "cell_type": "code",
   "execution_count": 2,
   "id": "369b5649-0a88-418b-8141-c52697500ba2",
   "metadata": {},
   "outputs": [],
   "source": [
    "# Import Libraries to be used for the Code\n",
    "import numpy as np\n",
    "import matplotlib.pyplot as plt\n",
    "\n",
    "from qiskit import QuantumRegister, QuantumCircuit\n",
    "from qiskit.circuit.library import IntegerComparator\n",
    "from qiskit.algorithms import IterativeAmplitudeEstimation, EstimationProblem\n",
    "from qiskit_aer.primitives import Sampler"
   ]
  },
  {
   "cell_type": "code",
   "execution_count": null,
   "id": "fe78409a-1b4d-4888-9e6a-08315ef2cdf0",
   "metadata": {},
   "outputs": [],
   "source": [
    "from qiskit_finance.circuit.library import GaussianConditionalIndependenceModel as GCI\n",
    "# set problem parameters\n",
    "n_z = 2\n",
    "z_max = 2\n",
    "z_values = np.linspace(-z_max, z_max, 2**n_z)\n",
    "p_zeros = [0.15, 0.25]\n",
    "rhos = [0.1, 0.05]\n",
    "lgd = [1, 2]\n",
    "K = len(p_zeros)\n",
    "alpha = 0.05\n",
    "u = GCI(n_z, z_max, p_zeros, rhos)"
   ]
  },
  {
   "cell_type": "code",
   "execution_count": null,
   "id": "c4f65582-fe04-4a79-8362-148ad3e5c3b9",
   "metadata": {},
   "outputs": [],
   "source": [
    "u_measure = u.measure_all(inplace=False)\n",
    "sampler = Sampler()\n",
    "job = sampler.run(u_measure)\n",
    "binary_probabilities = job.result().quasi_dists[0].binary_probabilities()"
   ]
  },
  {
   "cell_type": "code",
   "execution_count": null,
   "id": "de61652b-a68c-4366-a25f-c4ffa65d5f55",
   "metadata": {},
   "outputs": [],
   "source": []
  },
  {
   "cell_type": "code",
   "execution_count": null,
   "id": "377d4bce-e435-415f-9369-1194b51db52f",
   "metadata": {},
   "outputs": [],
   "source": []
  },
  {
   "cell_type": "code",
   "execution_count": null,
   "id": "d27d2450-fc6d-41f9-8f61-c9d1c8a483ef",
   "metadata": {},
   "outputs": [],
   "source": []
  },
  {
   "cell_type": "code",
   "execution_count": null,
   "id": "90743560-4558-4701-bcc3-d7be5e1f97bf",
   "metadata": {},
   "outputs": [],
   "source": []
  },
  {
   "cell_type": "code",
   "execution_count": null,
   "id": "b887414b-6e71-4f47-be59-d8e4a7ce1ec8",
   "metadata": {},
   "outputs": [],
   "source": []
  },
  {
   "cell_type": "code",
   "execution_count": null,
   "id": "34577ecb-3c8f-4af1-92cc-82bb936a44ac",
   "metadata": {},
   "outputs": [],
   "source": []
  },
  {
   "cell_type": "markdown",
   "id": "5bcb581a-6625-4e1e-a384-71dce766137e",
   "metadata": {},
   "source": [
    "#https://qiskit.org/ecosystem/finance/tutorials/09_credit_risk_analysis.html\n",
    "QAE - quantum ampitide estimation\n",
    "\n",
    "https://medium.com/@samaybhagat/building-a-quantum-portfolio-optimizer-with-ibms-qiskit-c39f3a8810f4\n",
    "https://qiskit.org/ecosystem/finance/tutorials/01_portfolio_optimization.html\n"
   ]
  },
  {
   "cell_type": "markdown",
   "id": "3fccae4a-62c8-451e-b3ec-29119a61fce2",
   "metadata": {},
   "source": [
    "Implementing MC simulations using Quantum algorithm (Financial domain)\n",
    "\n"
   ]
  },
  {
   "cell_type": "code",
   "execution_count": null,
   "id": "fcb2d3f7-6c33-437b-ae3a-0db8e839515f",
   "metadata": {},
   "outputs": [],
   "source": [
    "# initialization\n",
    "\n",
    "import numpy as np\n",
    "import matplotlib.pyplot as plt\n",
    "import datetime \n",
    "\n",
    "# importing qiskit tools\n",
    "\n",
    "from qiskit import Aer\n",
    "from qiskit.algorithms import VQE, NumPyMinimumEigensolver\n",
    "from qiskit.algorithms.optimizers import COBYLA\n",
    "from qiskit.circuit.library import TwoLocal\n",
    "from qiskit.utils import QuantumInstance\n",
    "from qiskit_finance.applications.optimization import PortfolioOptimization\n",
    "from qiskit_finance.data_providers import RandomDataProvider\n",
    "from qiskit_optimization.algorithms import MinimumEigenOptimizer\n",
    "from qiskit_optimization.applications import OptimizationApplication\n",
    "from qiskit_optimization.converters import QuadraticProgramToQubo"
   ]
  },
  {
   "cell_type": "code",
   "execution_count": null,
   "id": "d04488a5-6700-4366-8c26-fa34c4b850e3",
   "metadata": {},
   "outputs": [],
   "source": [
    "# establishing the number of assets (same as # of cubits)\n",
    "\n",
    "num_assets = 4\n",
    "seed = 987"
   ]
  },
  {
   "cell_type": "code",
   "execution_count": null,
   "id": "c3de58e5-e9ae-4dff-894e-cbcef4fac42a",
   "metadata": {},
   "outputs": [],
   "source": [
    "# select randomly generated data through RandomDataProvider\n",
    "\n",
    "stocks = [(\"TICKER%s\" % i) for i in range(num_assets)]\n",
    "data = RandomDataProvider(\n",
    "    tickers=stocks,\n",
    "    start=datetime.datetime(2021, 1, 1),\n",
    "    end=datetime.datetime(2021, 1, 30),\n",
    "    seed=seed,\n",
    ")"
   ]
  },
  {
   "cell_type": "code",
   "execution_count": null,
   "id": "ac5cd1e0-56b3-4c9f-abff-3104cd217950",
   "metadata": {},
   "outputs": [],
   "source": [
    "# calculate expected return and covariance from generated data\n",
    "\n",
    "data.run()\n",
    "ER = data.get_period_return_mean_vector()\n",
    "cov = data.get_period_return_covariance_matrix()\n",
    "\n",
    "# establishing parameters for optimizer\n",
    "rf = 0.5  \n",
    "budget = num_assets // 2   "
   ]
  },
  {
   "cell_type": "code",
   "execution_count": null,
   "id": "081807bd-11f8-4963-afc9-3d087ea87292",
   "metadata": {},
   "outputs": [],
   "source": [
    "# establishing a PO problem instance & converting to a quadratic program\n",
    "\n",
    "portfolio = PortfolioOptimization(\n",
    "    expected_returns=ER, covariances=cov, risk_factor=rf, budget=budget\n",
    ")\n",
    "qp = portfolio.to_quadratic_program()\n",
    "qp"
   ]
  },
  {
   "cell_type": "code",
   "execution_count": null,
   "id": "4c0d0016-3959-418c-b3a9-df79bb2bb931",
   "metadata": {},
   "outputs": [],
   "source": [
    "# printing optimization results NumPyMinimumEigensolver (classical method)\n",
    "\n",
    "mes = NumPyMinimumEigensolver()\n",
    "eigensolver = MinimumEigenOptimizer(mes)\n",
    "\n",
    "result = eigensolver.solve(qp)\n",
    "\n",
    "print_result(result)"
   ]
  },
  {
   "cell_type": "code",
   "execution_count": null,
   "id": "54661b9e-0cf7-46ea-987c-c11af41dffe2",
   "metadata": {},
   "outputs": [],
   "source": [
    "# organizing print results\n",
    "\n",
    "def print_result(result):\n",
    "    selection = result.x\n",
    "    value = result.fval\n",
    "    print(\"Optimal: selection {}, value of obj func {:.4f}\".format(selection, value))\n"
   ]
  },
  {
   "cell_type": "code",
   "execution_count": null,
   "id": "4445c785-3014-407d-b489-e85da1b14c1e",
   "metadata": {},
   "outputs": [],
   "source": [
    "eigenstate = result.min_eigen_solver_result.eigenstate\n",
    "eigenvector = eigenstate if isinstance(eigenstate, np.ndarray) else eigenstate.to_matrix()\n",
    "probabilities = np.abs(eigenvector) ** 2\n",
    "i_sorted = reversed(np.argsort(probabilities))"
   ]
  },
  {
   "cell_type": "code",
   "execution_count": null,
   "id": "460130d2-40dc-4068-b099-28eaa5d5a256",
   "metadata": {},
   "outputs": [],
   "source": [
    "print(\"\\n----------------- results ---------------------\")\n",
    "print(\"selection\\tvalue\\t\\tprobability\")\n",
    "for i in i_sorted:\n",
    "    x = index_to_selection(i, num_assets)\n",
    "    value = QuadraticProgramToQubo().convert(qp).objective.evaluate(x)\n",
    "    probability = probabilities[i]\n",
    "    print(\"%10s\\t%.4f\\t\\t%.4f\" % (x, value, probability))\n",
    "        "
   ]
  },
  {
   "cell_type": "code",
   "execution_count": null,
   "id": "1f1afdbc-180b-4097-bbc0-9525621cca3f",
   "metadata": {},
   "outputs": [],
   "source": []
  }
 ],
 "metadata": {
  "kernelspec": {
   "display_name": "Python 3 (ipykernel)",
   "language": "python",
   "name": "python3"
  },
  "language_info": {
   "codemirror_mode": {
    "name": "ipython",
    "version": 3
   },
   "file_extension": ".py",
   "mimetype": "text/x-python",
   "name": "python",
   "nbconvert_exporter": "python",
   "pygments_lexer": "ipython3",
   "version": "3.9.13"
  }
 },
 "nbformat": 4,
 "nbformat_minor": 5
}
