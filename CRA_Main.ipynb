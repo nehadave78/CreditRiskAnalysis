{
 "cells": [
  {
   "cell_type": "code",
   "execution_count": 2,
   "id": "045d9dd1-8e16-4ff3-873e-37b311bf09d8",
   "metadata": {},
   "outputs": [],
   "source": [
    "import CRA_import\n",
    "import CRA_util"
   ]
  },
  {
   "cell_type": "markdown",
   "id": "b1a145ad-9da5-45f6-9eac-a3864a362b96",
   "metadata": {},
   "source": [
    "Problem statement from the paper:\n",
    "We estimate the economic capital requirement, i.e. the difference between the Value at Risk and the expected value of a given loss distribution. \n",
    "We provide estimates of the total number of required qubits, the expected circuit depth,and how this translates into an expected runtime under reasonable assumptions on future faulttolerant quantum hardware.\n",
    "\n",
    "Financial service firms are exposed to many forms of risk [2]such as credit risk which is the risk of a monetary loss resulting from a counterparty failing to meet a financial obligation\n",
    "\n",
    "Evaluating credit risk with MC is a rare-event simulation problem which requires many samples thereby making MC computationally costly\n",
    "\n",
    "Quantum Amplitude Estimation (QAE) algorithm can be used to analyze financial risk measures or to price financial derivatives with a quadratic speedup.\n",
    "\n",
    "\n",
    "\n",
    "\n",
    "\n",
    "\n",
    "\n",
    "\n",
    "\n"
   ]
  }
 ],
 "metadata": {
  "kernelspec": {
   "display_name": "Python 3 (ipykernel)",
   "language": "python",
   "name": "python3"
  },
  "language_info": {
   "codemirror_mode": {
    "name": "ipython",
    "version": 3
   },
   "file_extension": ".py",
   "mimetype": "text/x-python",
   "name": "python",
   "nbconvert_exporter": "python",
   "pygments_lexer": "ipython3",
   "version": "3.9.13"
  }
 },
 "nbformat": 4,
 "nbformat_minor": 5
}
