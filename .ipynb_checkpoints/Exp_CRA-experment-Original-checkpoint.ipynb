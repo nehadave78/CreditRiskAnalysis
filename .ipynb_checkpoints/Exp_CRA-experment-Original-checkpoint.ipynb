{
 "cells": [
  {
   "cell_type": "markdown",
   "metadata": {},
   "source": [
    "# Credit Risk Analysis"
   ]
  },
  {
   "cell_type": "markdown",
   "metadata": {},
   "source": [
    "# Convert this cell to code if we need to reinstall qiskit_aer\n",
    "!python -m pip uninstall qiskit_aer --yes\n",
    "!python -m pip install qiskit_aer\n",
    "!pip install qiskit-finance"
   ]
  },
  {
   "cell_type": "code",
   "execution_count": 1,
   "metadata": {},
   "outputs": [],
   "source": [
    "import CRA_util\n",
    "import CRA_ExperimentOnAE"
   ]
  },
  {
   "cell_type": "code",
   "execution_count": 2,
   "metadata": {},
   "outputs": [],
   "source": [
    "#basic python libraries for math and visualization\n",
    "import numpy as np\n",
    "import matplotlib.pyplot as plt\n",
    "\n",
    "# Qiskit Finance\n",
    "from qiskit_finance.circuit.library import GaussianConditionalIndependenceModel \n",
    "\n",
    "#Qiskit libraries for our code\n",
    "from qiskit import QuantumRegister, QuantumCircuit\n",
    "from qiskit.circuit.library import IntegerComparator\n",
    "from qiskit.algorithms import EstimationProblem\n",
    "from qiskit_aer.primitives import Sampler\n",
    "from qiskit.circuit.library import WeightedAdder\n",
    "from qiskit.circuit.library import LinearAmplitudeFunction\n",
    "from qiskit.algorithms import  IterativePhaseEstimation"
   ]
  },
  {
   "cell_type": "code",
   "execution_count": 3,
   "metadata": {},
   "outputs": [],
   "source": [
    "# set parameters for the Gaussian Conditional Independence model\n",
    "n_z = 2 \n",
    "z_max = 4 #z sample\n",
    "z_values = np.linspace(-z_max, z_max, 2**n_z)\n",
    "p_zeros = [0.01, 0.01] #,0.1] # probability of default when z = 0\n",
    "rhos = [0.1, 0.05]#,0.1] # sensitivity\n",
    "uncertinitiyModel = GaussianConditionalIndependenceModel(n_z, z_max, p_zeros, rhos)"
   ]
  },
  {
   "cell_type": "markdown",
   "metadata": {},
   "source": [
    "# Step1 : Create UncertinitiyModel using Gaussian Conditional Indepence Model (normal distrubution)"
   ]
  },
  {
   "attachments": {
    "ae8aad99-6744-4921-a0fb-ca18a68ea181.png": {
     "image/png": "[encoded data removed]"
    }
   },
   "cell_type": "markdown",
   "metadata": {},
   "source": [
    "![Screenshot 2023-07-27 at 10.38.38 PM.png](attachment:ae8aad99-6744-4921-a0fb-ca18a68ea181.png)"
   ]
  },
  {
   "cell_type": "code",
   "execution_count": 4,
   "metadata": {},
   "outputs": [
    {
     "data": {
      "text/html": [
       "<pre style=\"word-wrap: normal;white-space: pre;background: #fff0;line-height: 1.1;font-family: &quot;Courier New&quot;,Courier,monospace\">     ┌───────┐\n",
       "q_0: ┤0      ├\n",
       "     │       │\n",
       "q_1: ┤1      ├\n",
       "     │  P(X) │\n",
       "q_2: ┤2      ├\n",
       "     │       │\n",
       "q_3: ┤3      ├\n",
       "     └───────┘</pre>"
      ],
      "text/plain": [
       "     ┌───────┐\n",
       "q_0: ┤0      ├\n",
       "     │       │\n",
       "q_1: ┤1      ├\n",
       "     │  P(X) │\n",
       "q_2: ┤2      ├\n",
       "     │       │\n",
       "q_3: ┤3      ├\n",
       "     └───────┘"
      ]
     },
     "execution_count": 4,
     "metadata": {},
     "output_type": "execute_result"
    }
   ],
   "source": [
    "uncertinitiyModel.draw()"
   ]
  },
  {
   "cell_type": "code",
   "execution_count": 5,
   "metadata": {},
   "outputs": [
    {
     "name": "stdout",
     "output_type": "stream",
     "text": [
      "{'1010': 0.001953125, '1001': 0.0126953125, '0010': 0.4921875, '0000': 0.001953125, '0101': 0.0078125, '0110': 0.0009765625, '0001': 0.482421875}\n",
      "SamplerResult(quasi_dists=[{10: 0.001953125, 9: 0.0126953125, 2: 0.4921875, 0: 0.001953125, 5: 0.0078125, 6: 0.0009765625, 1: 0.482421875}], metadata=[{'shots': 1024, 'simulator_metadata': {'parallel_state_update': 4, 'parallel_shots': 1, 'sample_measure_time': 0.000479513, 'noise': 'ideal', 'batched_shots_optimization': False, 'remapped_qubits': False, 'device': 'CPU', 'active_input_qubits': [0, 1, 2, 3], 'measure_sampling': True, 'num_clbits': 4, 'input_qubit_map': [[3, 3], [2, 2], [1, 1], [0, 0]], 'num_qubits': 4, 'method': 'statevector', 'fusion': {'applied': False, 'max_fused_qubits': 5, 'threshold': 14, 'enabled': True}}}])\n"
     ]
    }
   ],
   "source": [
    "u_measure = uncertinitiyModel.measure_all(inplace=False)\n",
    "\n",
    "sampler = Sampler()\n",
    "job = sampler.run(u_measure)\n",
    "bprobabilities = job.result().quasi_dists[0].binary_probabilities()\n",
    "print(bprobabilities)\n",
    "counts = job.result()\n",
    "print(counts)"
   ]
  },
  {
   "cell_type": "markdown",
   "metadata": {},
   "source": [
    "# Step2: Analyze uncertainty circuit and determine exact solutions"
   ]
  },
  {
   "cell_type": "code",
   "execution_count": 6,
   "metadata": {},
   "outputs": [
    {
     "name": "stdout",
     "output_type": "stream",
     "text": [
      "4\n"
     ]
    }
   ],
   "source": [
    "\n",
    "K = len(p_zeros)\n",
    "lgd = [1, 2]#,1]\n",
    "alpha = 0.05\n",
    "p_z = np.zeros(2**n_z)\n",
    "p_default = np.zeros(K)\n",
    "values = []\n",
    "probabilities = []\n",
    "num_qubits = uncertinitiyModel.num_qubits\n",
    "print(num_qubits)\n",
    "for i, prob in bprobabilities.items():\n",
    "    # extract value of Z and corresponding probability\n",
    "    i_normal = int(i[-n_z:], 2)\n",
    "    p_z[i_normal] += prob\n",
    "\n",
    "    # determine overall default probability for k\n",
    "    loss = 0\n",
    "    for k in range(K):\n",
    "        if i[K - k - 1] == \"1\":\n",
    "            p_default[k] += prob\n",
    "            loss += lgd[k]\n",
    "\n",
    "    values += [loss]\n",
    "    probabilities += [prob]\n",
    "\n",
    "\n",
    "values = np.array(values)\n",
    "probabilities = np.array(probabilities)\n",
    "\n",
    "expected_loss = np.dot(values, probabilities)\n",
    "losses = np.sort(np.unique(values))\n",
    "pdf = np.zeros(len(losses))\n",
    "for i, v in enumerate(losses):\n",
    "    pdf[i] += sum(probabilities[values == v])\n",
    "cdf = np.cumsum(pdf)\n",
    "\n",
    "i_var = np.argmax(cdf >= 1 - alpha)\n",
    "exact_var = losses[i_var]\n",
    "exact_cvar = np.dot(pdf[(i_var + 1) :], losses[(i_var + 1) :]) / sum(pdf[(i_var + 1) :])"
   ]
  },
  {
   "cell_type": "code",
   "execution_count": 7,
   "metadata": {},
   "outputs": [
    {
     "name": "stdout",
     "output_type": "stream",
     "text": [
      "Expected Loss E[L]:                0.0381\n",
      "Value at Risk VaR[L]:              0.0000\n",
      "P[L <= VaR[L]]:                    0.9766\n",
      "Conditional Value at Risk CVaR[L]: 1.6250\n"
     ]
    }
   ],
   "source": [
    "print(\"Expected Loss E[L]:                %.4f\" % expected_loss)\n",
    "print(\"Value at Risk VaR[L]:              %.4f\" % exact_var)\n",
    "print(\"P[L <= VaR[L]]:                    %.4f\" % cdf[exact_var])\n",
    "print(\"Conditional Value at Risk CVaR[L]: %.4f\" % exact_cvar)"
   ]
  },
  {
   "cell_type": "code",
   "execution_count": 8,
   "metadata": {
    "tags": [
     "nbsphinx-thumbnail"
    ]
   },
   "outputs": [
    {
     "data": {
      "image/png": "[encoded data removed]",
      "text/plain": [
       "<Figure size 640x480 with 1 Axes>"
      ]
     },
     "metadata": {},
     "output_type": "display_data"
    }
   ],
   "source": [
    "# plot loss PDF, expected loss, var, and cvar\n",
    "plt.bar(losses, pdf)\n",
    "plt.axvline(expected_loss, color=\"green\", linestyle=\"--\", label=\"E[L]\")\n",
    "plt.axvline(exact_var, color=\"orange\", linestyle=\"--\", label=\"VaR(L)\")\n",
    "plt.axvline(exact_cvar, color=\"red\", linestyle=\"--\", label=\"CVaR(L)\")\n",
    "plt.legend(fontsize=15)\n",
    "plt.xlabel(\"Loss L ($)\", size=15)\n",
    "plt.ylabel(\"probability (%)\", size=15)\n",
    "plt.title(\"Loss Distribution\", size=20)\n",
    "plt.xticks(size=15)\n",
    "plt.yticks(size=15)\n",
    "plt.show()"
   ]
  },
  {
   "cell_type": "code",
   "execution_count": 9,
   "metadata": {},
   "outputs": [
    {
     "data": {
      "image/png": "[encoded data removed]",
      "text/plain": [
       "<Figure size 640x480 with 1 Axes>"
      ]
     },
     "metadata": {},
     "output_type": "display_data"
    }
   ],
   "source": [
    "# plot results for Z\n",
    "plt.plot(z_values, p_z, \"o-\", linewidth=3, markersize=8)\n",
    "plt.grid()\n",
    "plt.xlabel(\"Z value\", size=15)\n",
    "plt.ylabel(\"probability (%)\", size=15)\n",
    "plt.title(\"Z Distribution\", size=20)\n",
    "plt.xticks(size=15)\n",
    "plt.yticks(size=15)\n",
    "plt.show()"
   ]
  },
  {
   "cell_type": "code",
   "execution_count": 10,
   "metadata": {},
   "outputs": [
    {
     "data": {
      "image/png": "[encoded data removed]",
      "text/plain": [
       "<Figure size 640x480 with 1 Axes>"
      ]
     },
     "metadata": {},
     "output_type": "display_data"
    }
   ],
   "source": [
    "# plot results for default probabilities\n",
    "plt.bar(range(K), p_default)\n",
    "plt.xlabel(\"Asset\", size=15)\n",
    "plt.ylabel(\"probability (%)\", size=15)\n",
    "plt.title(\"Individual Default Probabilities\", size=20)\n",
    "plt.xticks(range(K), size=15)\n",
    "plt.yticks(size=15)\n",
    "plt.grid()\n",
    "plt.show()"
   ]
  },
  {
   "cell_type": "code",
   "execution_count": 11,
   "metadata": {},
   "outputs": [],
   "source": [
    "# add Z qubits with weight/loss\n",
    "agg = WeightedAdder(n_z + K, [0] * n_z + lgd)\n",
    "#agg = VBERippleCarryAdder(n_z + K, [0] * n_z + lgd)"
   ]
  },
  {
   "cell_type": "code",
   "execution_count": 12,
   "metadata": {},
   "outputs": [],
   "source": [
    "# define linear objective function\n",
    "breakpoints = [0]\n",
    "slopes = [1]\n",
    "offsets = [0]\n",
    "f_min = 0\n",
    "f_max = sum(lgd)\n",
    "c_approx = 0.25\n",
    "\n",
    "objective = LinearAmplitudeFunction(\n",
    "    agg.num_sum_qubits,\n",
    "    slope=slopes,\n",
    "    offset=offsets,\n",
    "    # max value that can be reached by the qubit register (will not always be reached)\n",
    "    domain=(0, 2**agg.num_sum_qubits - 1),\n",
    "    image=(f_min, f_max),\n",
    "    rescaling_factor=c_approx,\n",
    "    breakpoints=breakpoints,\n",
    ")"
   ]
  },
  {
   "cell_type": "code",
   "execution_count": 13,
   "metadata": {},
   "outputs": [
    {
     "name": "stdout",
     "output_type": "stream",
     "text": [
      "Total Qubits used: 8\n"
     ]
    },
    {
     "data": {
      "text/html": [
       "<pre style=\"word-wrap: normal;white-space: pre;background: #fff0;line-height: 1.1;font-family: &quot;Courier New&quot;,Courier,monospace\">           ┌───────┐┌────────┐      ┌───────────┐\n",
       "  state_0: ┤0      ├┤0       ├──────┤0          ├\n",
       "           │       ││        │      │           │\n",
       "  state_1: ┤1      ├┤1       ├──────┤1          ├\n",
       "           │  P(X) ││        │      │           │\n",
       "  state_2: ┤2      ├┤2       ├──────┤2          ├\n",
       "           │       ││        │      │           │\n",
       "  state_3: ┤3      ├┤3       ├──────┤3          ├\n",
       "           └───────┘│  adder │┌────┐│  adder_dg │\n",
       "objective: ─────────┤        ├┤2   ├┤           ├\n",
       "                    │        ││    ││           │\n",
       "    sum_0: ─────────┤4       ├┤0 F ├┤4          ├\n",
       "                    │        ││    ││           │\n",
       "    sum_1: ─────────┤5       ├┤1   ├┤5          ├\n",
       "                    │        │└────┘│           │\n",
       "    carry: ─────────┤6       ├──────┤6          ├\n",
       "                    └────────┘      └───────────┘</pre>"
      ],
      "text/plain": [
       "           ┌───────┐┌────────┐      ┌───────────┐\n",
       "  state_0: ┤0      ├┤0       ├──────┤0          ├\n",
       "           │       ││        │      │           │\n",
       "  state_1: ┤1      ├┤1       ├──────┤1          ├\n",
       "           │  P(X) ││        │      │           │\n",
       "  state_2: ┤2      ├┤2       ├──────┤2          ├\n",
       "           │       ││        │      │           │\n",
       "  state_3: ┤3      ├┤3       ├──────┤3          ├\n",
       "           └───────┘│  adder │┌────┐│  adder_dg │\n",
       "objective: ─────────┤        ├┤2   ├┤           ├\n",
       "                    │        ││    ││           │\n",
       "    sum_0: ─────────┤4       ├┤0 F ├┤4          ├\n",
       "                    │        ││    ││           │\n",
       "    sum_1: ─────────┤5       ├┤1   ├┤5          ├\n",
       "                    │        │└────┘│           │\n",
       "    carry: ─────────┤6       ├──────┤6          ├\n",
       "                    └────────┘      └───────────┘"
      ]
     },
     "execution_count": 13,
     "metadata": {},
     "output_type": "execute_result"
    }
   ],
   "source": [
    "# define the registers for convenience and readability\n",
    "qr_state = QuantumRegister(uncertinitiyModel.num_qubits, \"state\")\n",
    "qr_sum = QuantumRegister(agg.num_sum_qubits, \"sum\")\n",
    "qr_carry = QuantumRegister(agg.num_carry_qubits, \"carry\")\n",
    "qr_obj = QuantumRegister(1, \"objective\")\n",
    "print(\"Total Qubits used:\", uncertinitiyModel.num_qubits + agg.num_sum_qubits+ agg.num_carry_qubits + 1)\n",
    "# define the circuit\n",
    "state_preparation = QuantumCircuit(qr_state, qr_obj, qr_sum, qr_carry, name=\"A\")\n",
    "\n",
    "# load the random variable\n",
    "state_preparation.append(uncertinitiyModel.to_gate(), qr_state)\n",
    "\n",
    "# aggregate\n",
    "state_preparation.append(agg.to_gate(), qr_state[:] + qr_sum[:] + qr_carry[:])\n",
    "\n",
    "# linear objective function\n",
    "state_preparation.append(objective.to_gate(), qr_sum[:] + qr_obj[:])\n",
    "\n",
    "# uncompute aggregation\n",
    "state_preparation.append(agg.to_gate().inverse(), qr_state[:] + qr_sum[:] + qr_carry[:])\n",
    "\n",
    "# draw the circuit\n",
    "state_preparation.draw()"
   ]
  },
  {
   "cell_type": "code",
   "execution_count": 14,
   "metadata": {},
   "outputs": [
    {
     "data": {
      "text/html": [
       "<pre style=\"word-wrap: normal;white-space: pre;background: #fff0;line-height: 1.1;font-family: &quot;Courier New&quot;,Courier,monospace\">           ┌───────┐┌──────────────┐      ┌─────────────────┐\n",
       "  state_0: ┤0      ├┤0             ├──────┤0                ├\n",
       "           │       ││              │      │                 │\n",
       "  state_1: ┤1      ├┤1             ├──────┤1                ├\n",
       "           │  P(X) ││              │      │                 │\n",
       "  state_2: ┤2      ├┤2             ├──────┤2                ├\n",
       "           │       ││              │      │                 │\n",
       "  state_3: ┤3      ├┤3             ├──────┤3                ├\n",
       "           └───────┘│  circuit-168 │┌────┐│  circuit-168_dg │\n",
       "objective: ─────────┤              ├┤2   ├┤                 ├\n",
       "                    │              ││    ││                 │\n",
       "    sum_0: ─────────┤4             ├┤0 F ├┤4                ├\n",
       "                    │              ││    ││                 │\n",
       "    sum_1: ─────────┤5             ├┤1   ├┤5                ├\n",
       "                    │              │└────┘│                 │\n",
       "    carry: ─────────┤6             ├──────┤6                ├\n",
       "                    └──────────────┘      └─────────────────┘</pre>"
      ],
      "text/plain": [
       "           ┌───────┐┌──────────────┐      ┌─────────────────┐\n",
       "  state_0: ┤0      ├┤0             ├──────┤0                ├\n",
       "           │       ││              │      │                 │\n",
       "  state_1: ┤1      ├┤1             ├──────┤1                ├\n",
       "           │  P(X) ││              │      │                 │\n",
       "  state_2: ┤2      ├┤2             ├──────┤2                ├\n",
       "           │       ││              │      │                 │\n",
       "  state_3: ┤3      ├┤3             ├──────┤3                ├\n",
       "           └───────┘│  circuit-168 │┌────┐│  circuit-168_dg │\n",
       "objective: ─────────┤              ├┤2   ├┤                 ├\n",
       "                    │              ││    ││                 │\n",
       "    sum_0: ─────────┤4             ├┤0 F ├┤4                ├\n",
       "                    │              ││    ││                 │\n",
       "    sum_1: ─────────┤5             ├┤1   ├┤5                ├\n",
       "                    │              │└────┘│                 │\n",
       "    carry: ─────────┤6             ├──────┤6                ├\n",
       "                    └──────────────┘      └─────────────────┘"
      ]
     },
     "execution_count": 14,
     "metadata": {},
     "output_type": "execute_result"
    }
   ],
   "source": [
    "state_preparation.decompose().draw()"
   ]
  },
  {
   "cell_type": "code",
   "execution_count": 15,
   "metadata": {},
   "outputs": [],
   "source": [
    "state_preparation_measure = state_preparation.measure_all(inplace=False)\n",
    "sampler = Sampler()\n",
    "job = sampler.run(state_preparation_measure)\n",
    "binary_probabilities = job.result().quasi_dists[0].binary_probabilities()"
   ]
  },
  {
   "cell_type": "code",
   "execution_count": 16,
   "metadata": {},
   "outputs": [
    {
     "name": "stdout",
     "output_type": "stream",
     "text": [
      "Exact Expected Loss:   0.0381\n",
      "Exact Operator Value:  0.3184\n",
      "Mapped Operator value: 0.1124\n"
     ]
    }
   ],
   "source": [
    "# evaluate the result\n",
    "value = 0\n",
    "for i, prob in binary_probabilities.items():\n",
    "    if prob > 1e-6 and i[-(len(qr_state) + 1) :][0] == \"1\":\n",
    "        value += prob\n",
    "\n",
    "print(\"Exact Expected Loss:   %.4f\" % expected_loss)\n",
    "print(\"Exact Operator Value:  %.4f\" % value)\n",
    "print(\"Mapped Operator value: %.4f\" % objective.post_processing(value))"
   ]
  },
  {
   "cell_type": "code",
   "execution_count": 17,
   "metadata": {
    "scrolled": true
   },
   "outputs": [
    {
     "name": "stdout",
     "output_type": "stream",
     "text": [
      "Exact value:    \t0.0381\n",
      "Estimated value:\t0.0668\n",
      "Confidence interval: \t[-1.4994, 2.4273]\n"
     ]
    }
   ],
   "source": [
    "# set target precision and confidence level\n",
    "epsilon = 0.01\n",
    "alpha = 0.05\n",
    "\n",
    "problem = EstimationProblem(\n",
    "    state_preparation=state_preparation,\n",
    "    #num_qubits = state_preparation.num_qubits,\n",
    "    objective_qubits=[len(qr_state)],\n",
    "    post_processing=objective.post_processing,\n",
    ")\n",
    "# construct amplitude estimation\n",
    "fae = CRA_ExperimentOnAE.FasterAE()\n",
    "#IterativePhaseEstimation(num_iterations =2,\n",
    "                              #quantum_instance= ,\n",
    "#                              sampler= Sampler(run_options={\"shots\": 100}))\n",
    "#CRA_ExperimentOnAE.FasterAE()\n",
    "result = fae.estimate(problem)\n",
    "\n",
    "# print results\n",
    "conf_int = np.array(result.confidence_interval_processed)\n",
    "print(\"Exact value:    \\t%.4f\" % expected_loss)\n",
    "print(\"Estimated value:\\t%.4f\" % result.estimation_processed)\n",
    "print(\"Confidence interval: \\t[%.4f, %.4f]\" % tuple(conf_int))"
   ]
  },
  {
   "cell_type": "code",
   "execution_count": 18,
   "metadata": {},
   "outputs": [
    {
     "data": {
      "text/html": [
       "<pre style=\"word-wrap: normal;white-space: pre;background: #fff0;line-height: 1.1;font-family: &quot;Courier New&quot;,Courier,monospace\">         ┌──────┐\n",
       "state_0: ┤0     ├\n",
       "         │      │\n",
       "state_1: ┤1     ├\n",
       "         │  cmp │\n",
       "compare: ┤2     ├\n",
       "         │      │\n",
       "    a24: ┤3     ├\n",
       "         └──────┘</pre>"
      ],
      "text/plain": [
       "         ┌──────┐\n",
       "state_0: ┤0     ├\n",
       "         │      │\n",
       "state_1: ┤1     ├\n",
       "         │  cmp │\n",
       "compare: ┤2     ├\n",
       "         │      │\n",
       "    a24: ┤3     ├\n",
       "         └──────┘"
      ]
     },
     "execution_count": 18,
     "metadata": {},
     "output_type": "execute_result"
    }
   ],
   "source": [
    "# set x value to estimate the CDF\n",
    "x_eval = 2\n",
    "\n",
    "comparator = IntegerComparator(agg.num_sum_qubits, x_eval + 1, geq=False)\n",
    "comparator.draw()"
   ]
  },
  {
   "cell_type": "code",
   "execution_count": 19,
   "metadata": {
    "scrolled": true
   },
   "outputs": [
    {
     "data": {
      "text/html": [
       "<pre style=\"word-wrap: normal;white-space: pre;background: #fff0;line-height: 1.1;font-family: &quot;Courier New&quot;,Courier,monospace\">           ┌───────┐┌────────┐      ┌───────────┐\n",
       "  state_0: ┤0      ├┤0       ├──────┤0          ├\n",
       "           │       ││        │      │           │\n",
       "  state_1: ┤1      ├┤1       ├──────┤1          ├\n",
       "           │  P(X) ││        │      │           │\n",
       "  state_2: ┤2      ├┤2       ├──────┤2          ├\n",
       "           │       ││        │      │           │\n",
       "  state_3: ┤3      ├┤3       ├──────┤3          ├\n",
       "           └───────┘│  adder │┌────┐│  adder_dg │\n",
       "objective: ─────────┤        ├┤2   ├┤           ├\n",
       "                    │        ││    ││           │\n",
       "    sum_0: ─────────┤4       ├┤0 F ├┤4          ├\n",
       "                    │        ││    ││           │\n",
       "    sum_1: ─────────┤5       ├┤1   ├┤5          ├\n",
       "                    │        │└────┘│           │\n",
       "    carry: ─────────┤6       ├──────┤6          ├\n",
       "                    └────────┘      └───────────┘</pre>"
      ],
      "text/plain": [
       "           ┌───────┐┌────────┐      ┌───────────┐\n",
       "  state_0: ┤0      ├┤0       ├──────┤0          ├\n",
       "           │       ││        │      │           │\n",
       "  state_1: ┤1      ├┤1       ├──────┤1          ├\n",
       "           │  P(X) ││        │      │           │\n",
       "  state_2: ┤2      ├┤2       ├──────┤2          ├\n",
       "           │       ││        │      │           │\n",
       "  state_3: ┤3      ├┤3       ├──────┤3          ├\n",
       "           └───────┘│  adder │┌────┐│  adder_dg │\n",
       "objective: ─────────┤        ├┤2   ├┤           ├\n",
       "                    │        ││    ││           │\n",
       "    sum_0: ─────────┤4       ├┤0 F ├┤4          ├\n",
       "                    │        ││    ││           │\n",
       "    sum_1: ─────────┤5       ├┤1   ├┤5          ├\n",
       "                    │        │└────┘│           │\n",
       "    carry: ─────────┤6       ├──────┤6          ├\n",
       "                    └────────┘      └───────────┘"
      ]
     },
     "execution_count": 19,
     "metadata": {},
     "output_type": "execute_result"
    }
   ],
   "source": [
    "state_preparation.draw()"
   ]
  },
  {
   "cell_type": "code",
   "execution_count": 20,
   "metadata": {},
   "outputs": [
    {
     "name": "stdout",
     "output_type": "stream",
     "text": [
      "Total Qubits used: 9\n"
     ]
    }
   ],
   "source": [
    "state_preparation = CRA_util.get_cdf_circuit(x_eval,uncertinitiyModel,agg)"
   ]
  },
  {
   "cell_type": "code",
   "execution_count": 21,
   "metadata": {},
   "outputs": [],
   "source": [
    "state_preparation_measure = state_preparation.measure_all(inplace=False)\n",
    "sampler = Sampler()\n",
    "job = sampler.run(state_preparation_measure)\n",
    "binary_probabilities = job.result().quasi_dists[0].binary_probabilities()"
   ]
  },
  {
   "cell_type": "code",
   "execution_count": 22,
   "metadata": {},
   "outputs": [
    {
     "name": "stdout",
     "output_type": "stream",
     "text": [
      "Operator CDF(2) = 1.0000\n",
      "Exact    CDF(2) = 1.0000\n"
     ]
    }
   ],
   "source": [
    "# evaluate the result\n",
    "var_prob = 0\n",
    "for i, prob in binary_probabilities.items():\n",
    "    if prob > 1e-6 and i[-(len(qr_state) + 1) :][0] == \"1\":\n",
    "        var_prob += prob\n",
    "\n",
    "print(\"Operator CDF(%s)\" % x_eval + \" = %.4f\" % var_prob)\n",
    "print(\"Exact    CDF(%s)\" % x_eval + \" = %.4f\" % cdf[x_eval])"
   ]
  },
  {
   "cell_type": "code",
   "execution_count": 23,
   "metadata": {},
   "outputs": [
    {
     "name": "stdout",
     "output_type": "stream",
     "text": [
      "Exact value:    \t1.0000\n",
      "Estimated value:\t0.9981\n",
      "Confidence interval: \t[0.5962, 1.4946]\n"
     ]
    }
   ],
   "source": [
    "# set target precision and confidence level\n",
    "epsilon = 0.01\n",
    "alpha = 0.05\n",
    "\n",
    "problem = EstimationProblem(state_preparation=state_preparation, objective_qubits=[len(qr_state)])\n",
    "# construct amplitude estimation\n",
    "fae_cdf = CRA_ExperimentOnAE.FasterAE()\n",
    "result_cdf = fae_cdf.estimate(problem)\n",
    "\n",
    "# print results\n",
    "conf_int = np.array(result_cdf.confidence_interval)\n",
    "print(\"Exact value:    \\t%.4f\" % cdf[x_eval])\n",
    "print(\"Estimated value:\\t%.4f\" % result_cdf.estimation)\n",
    "print(\"Confidence interval: \\t[%.4f, %.4f]\" % tuple(conf_int))"
   ]
  },
  {
   "cell_type": "code",
   "execution_count": 24,
   "metadata": {},
   "outputs": [
    {
     "name": "stdout",
     "output_type": "stream",
     "text": [
      "--------------------------------------------------------------------\n",
      "start bisection search for target value 0.950\n",
      "--------------------------------------------------------------------\n",
      "low_level    low_value    level    value    high_level    high_value\n",
      "--------------------------------------------------------------------\n",
      "Total Qubits used: 9\n",
      "-1           0.000         0       0.983     2            1.000\n",
      "--------------------------------------------------------------------\n",
      "finished bisection search\n",
      "--------------------------------------------------------------------\n"
     ]
    }
   ],
   "source": [
    "# run bisection search to determine VaR\n",
    "objective = lambda x: CRA_util.run_ae_for_cdf(x,uncertinitiyModel,agg,qr_state)\n",
    "bisection_result = CRA_util.bisection_search(\n",
    "    objective, 1 - alpha, min(losses) - 1, max(losses), low_value=0, high_value=1\n",
    ")\n",
    "var = bisection_result[\"level\"]"
   ]
  },
  {
   "cell_type": "code",
   "execution_count": 27,
   "metadata": {},
   "outputs": [
    {
     "name": "stdout",
     "output_type": "stream",
     "text": [
      "Estimated Value at Risk:  0\n",
      "Exact Value at Risk:      0\n",
      "Estimated Probability:    0.983\n",
      "Exact Probability:        0.977\n"
     ]
    }
   ],
   "source": [
    "print(\"Estimated Value at Risk: %2d\" % var)\n",
    "print(\"Exact Value at Risk:     %2d\" % exact_var)\n",
    "print(\"Estimated Probability:    %.3f\" % bisection_result[\"value\"])\n",
    "print(\"Exact Probability:        %.3f\" % cdf[exact_var])"
   ]
  },
  {
   "cell_type": "code",
   "execution_count": 28,
   "metadata": {},
   "outputs": [
    {
     "ename": "ValueError",
     "evalue": "Breakpoints must be unique and sorted.",
     "output_type": "error",
     "traceback": [
      "\u001b[0;31m---------------------------------------------------------------------------\u001b[0m",
      "\u001b[0;31mValueError\u001b[0m                                Traceback (most recent call last)",
      "\u001b[0;32m/var/folders/bl/v1nmqh2n38j4zy5sxyv7w98h0000gn/T/ipykernel_45359/2011604251.py\u001b[0m in \u001b[0;36m<module>\u001b[0;34m\u001b[0m\n\u001b[1;32m      7\u001b[0m \u001b[0mc_approx\u001b[0m \u001b[0;34m=\u001b[0m \u001b[0;36m0.25\u001b[0m\u001b[0;34m\u001b[0m\u001b[0;34m\u001b[0m\u001b[0m\n\u001b[1;32m      8\u001b[0m \u001b[0;34m\u001b[0m\u001b[0m\n\u001b[0;32m----> 9\u001b[0;31m cvar_objective = LinearAmplitudeFunction(\n\u001b[0m\u001b[1;32m     10\u001b[0m     \u001b[0magg\u001b[0m\u001b[0;34m.\u001b[0m\u001b[0mnum_sum_qubits\u001b[0m\u001b[0;34m,\u001b[0m\u001b[0;34m\u001b[0m\u001b[0;34m\u001b[0m\u001b[0m\n\u001b[1;32m     11\u001b[0m     \u001b[0mslopes\u001b[0m\u001b[0;34m,\u001b[0m\u001b[0;34m\u001b[0m\u001b[0;34m\u001b[0m\u001b[0m\n",
      "\u001b[0;32m~/opt/anaconda3/lib/python3.9/site-packages/qiskit/circuit/library/arithmetic/linear_amplitude_function.py\u001b[0m in \u001b[0;36m__init__\u001b[0;34m(self, num_state_qubits, slope, offset, domain, image, rescaling_factor, breakpoints, name)\u001b[0m\n\u001b[1;32m    114\u001b[0m \u001b[0;34m\u001b[0m\u001b[0m\n\u001b[1;32m    115\u001b[0m         \u001b[0m_check_sizes_match\u001b[0m\u001b[0;34m(\u001b[0m\u001b[0mslope\u001b[0m\u001b[0;34m,\u001b[0m \u001b[0moffset\u001b[0m\u001b[0;34m,\u001b[0m \u001b[0mbreakpoints\u001b[0m\u001b[0;34m)\u001b[0m\u001b[0;34m\u001b[0m\u001b[0;34m\u001b[0m\u001b[0m\n\u001b[0;32m--> 116\u001b[0;31m         \u001b[0m_check_sorted_and_in_range\u001b[0m\u001b[0;34m(\u001b[0m\u001b[0mbreakpoints\u001b[0m\u001b[0;34m,\u001b[0m \u001b[0mdomain\u001b[0m\u001b[0;34m)\u001b[0m\u001b[0;34m\u001b[0m\u001b[0;34m\u001b[0m\u001b[0m\n\u001b[0m\u001b[1;32m    117\u001b[0m \u001b[0;34m\u001b[0m\u001b[0m\n\u001b[1;32m    118\u001b[0m         \u001b[0mself\u001b[0m\u001b[0;34m.\u001b[0m\u001b[0m_domain\u001b[0m \u001b[0;34m=\u001b[0m \u001b[0mdomain\u001b[0m\u001b[0;34m\u001b[0m\u001b[0;34m\u001b[0m\u001b[0m\n",
      "\u001b[0;32m~/opt/anaconda3/lib/python3.9/site-packages/qiskit/circuit/library/arithmetic/linear_amplitude_function.py\u001b[0m in \u001b[0;36m_check_sorted_and_in_range\u001b[0;34m(breakpoints, domain)\u001b[0m\n\u001b[1;32m    180\u001b[0m     \u001b[0;31m# check if sorted\u001b[0m\u001b[0;34m\u001b[0m\u001b[0;34m\u001b[0m\u001b[0m\n\u001b[1;32m    181\u001b[0m     \u001b[0;32mif\u001b[0m \u001b[0;32mnot\u001b[0m \u001b[0mnp\u001b[0m\u001b[0;34m.\u001b[0m\u001b[0mall\u001b[0m\u001b[0;34m(\u001b[0m\u001b[0mnp\u001b[0m\u001b[0;34m.\u001b[0m\u001b[0mdiff\u001b[0m\u001b[0;34m(\u001b[0m\u001b[0mbreakpoints\u001b[0m\u001b[0;34m)\u001b[0m \u001b[0;34m>\u001b[0m \u001b[0;36m0\u001b[0m\u001b[0;34m)\u001b[0m\u001b[0;34m:\u001b[0m\u001b[0;34m\u001b[0m\u001b[0;34m\u001b[0m\u001b[0m\n\u001b[0;32m--> 182\u001b[0;31m         \u001b[0;32mraise\u001b[0m \u001b[0mValueError\u001b[0m\u001b[0;34m(\u001b[0m\u001b[0;34m\"Breakpoints must be unique and sorted.\"\u001b[0m\u001b[0;34m)\u001b[0m\u001b[0;34m\u001b[0m\u001b[0;34m\u001b[0m\u001b[0m\n\u001b[0m\u001b[1;32m    183\u001b[0m \u001b[0;34m\u001b[0m\u001b[0m\n\u001b[1;32m    184\u001b[0m     \u001b[0;32mif\u001b[0m \u001b[0mbreakpoints\u001b[0m\u001b[0;34m[\u001b[0m\u001b[0;36m0\u001b[0m\u001b[0;34m]\u001b[0m \u001b[0;34m<\u001b[0m \u001b[0mdomain\u001b[0m\u001b[0;34m[\u001b[0m\u001b[0;36m0\u001b[0m\u001b[0;34m]\u001b[0m \u001b[0;32mor\u001b[0m \u001b[0mbreakpoints\u001b[0m\u001b[0;34m[\u001b[0m\u001b[0;34m-\u001b[0m\u001b[0;36m1\u001b[0m\u001b[0;34m]\u001b[0m \u001b[0;34m>\u001b[0m \u001b[0mdomain\u001b[0m\u001b[0;34m[\u001b[0m\u001b[0;36m1\u001b[0m\u001b[0;34m]\u001b[0m\u001b[0;34m:\u001b[0m\u001b[0;34m\u001b[0m\u001b[0;34m\u001b[0m\u001b[0m\n",
      "\u001b[0;31mValueError\u001b[0m: Breakpoints must be unique and sorted."
     ]
    }
   ],
   "source": [
    "# define linear objective\n",
    "breakpoints = [0, var]\n",
    "slopes = [0, 1]\n",
    "offsets = [0, 0]  # subtract VaR and add it later to the estimate\n",
    "f_min = 0\n",
    "f_max = 3 - var\n",
    "c_approx = 0.25\n",
    "\n",
    "cvar_objective = LinearAmplitudeFunction(\n",
    "    agg.num_sum_qubits,\n",
    "    slopes,\n",
    "    offsets,\n",
    "    domain=(0, 2**agg.num_sum_qubits - 1),\n",
    "    image=(f_min, f_max),\n",
    "    rescaling_factor=c_approx,\n",
    "    breakpoints=breakpoints,\n",
    ")\n",
    "\n",
    "cvar_objective.draw()"
   ]
  },
  {
   "cell_type": "code",
   "execution_count": null,
   "metadata": {},
   "outputs": [],
   "source": [
    "# define the registers for convenience and readability\n",
    "qr_state = QuantumRegister(uncertinitiyModel.num_qubits, \"state\")\n",
    "qr_sum = QuantumRegister(agg.num_sum_qubits, \"sum\")\n",
    "qr_carry = QuantumRegister(agg.num_carry_qubits, \"carry\")\n",
    "qr_obj = QuantumRegister(1, \"objective\")\n",
    "qr_work = QuantumRegister(cvar_objective.num_ancillas - len(qr_carry), \"work\")\n",
    "\n",
    "print(\"Total Qubits used:\",uncertinitiyModel.num_qubits+agg.num_sum_qubits+\n",
    "          agg.num_carry_qubits+1+ cvar_objective.num_ancillas - len(qr_carry))\n",
    "# define the circuit\n",
    "state_preparation = QuantumCircuit(qr_state, qr_obj, qr_sum, qr_carry, qr_work, name=\"A\")\n",
    "\n",
    "# load the random variable\n",
    "state_preparation.append(uncertinitiyModel, qr_state)\n",
    "\n",
    "# aggregate\n",
    "state_preparation.append(agg, qr_state[:] + qr_sum[:] + qr_carry[:])\n",
    "\n",
    "# linear objective function\n",
    "state_preparation.append(cvar_objective, qr_sum[:] + qr_obj[:] + qr_carry[:] + qr_work[:])\n",
    "\n",
    "# uncompute aggregation\n",
    "state_preparation.append(agg.inverse(), qr_state[:] + qr_sum[:] + qr_carry[:])"
   ]
  },
  {
   "cell_type": "code",
   "execution_count": null,
   "metadata": {},
   "outputs": [],
   "source": [
    "state_preparation_measure = state_preparation.measure_all(inplace=False)\n",
    "sampler = Sampler()\n",
    "job = sampler.run(state_preparation_measure)\n",
    "binary_probabilities = job.result().quasi_dists[0].binary_probabilities()"
   ]
  },
  {
   "cell_type": "code",
   "execution_count": null,
   "metadata": {},
   "outputs": [],
   "source": [
    "# evaluate the result\n",
    "value = 0\n",
    "for i, prob in binary_probabilities.items():\n",
    "    if prob > 1e-6 and i[-(len(qr_state) + 1)] == \"1\":\n",
    "        value += prob\n",
    "\n",
    "# normalize and add VaR to estimate\n",
    "value = cvar_objective.post_processing(value)\n",
    "d = 1.0 - bisection_result[\"value\"]\n",
    "v = value / d if d != 0 else 0\n",
    "normalized_value = v + var\n",
    "print(\"Estimated CVaR: %.4f\" % normalized_value)\n",
    "print(\"Exact CVaR:     %.4f\" % exact_cvar)"
   ]
  },
  {
   "cell_type": "code",
   "execution_count": null,
   "metadata": {},
   "outputs": [],
   "source": [
    "# set target precision and confidence level\n",
    "epsilon = 0.01\n",
    "alpha = 0.05\n",
    "\n",
    "problem = EstimationProblem(\n",
    "    state_preparation=state_preparation,\n",
    "    objective_qubits=[len(qr_state)],\n",
    "    post_processing=cvar_objective.post_processing,\n",
    ")\n",
    "# construct amplitude estimation\n",
    "fae_cvar = CRA_ExperimentOnAE.FasterAE()\n",
    "result_cvar = fae_cvar.estimate(problem)"
   ]
  },
  {
   "cell_type": "code",
   "execution_count": null,
   "metadata": {},
   "outputs": [],
   "source": [
    "# print results\n",
    "d = 1.0 - bisection_result[\"value\"]\n",
    "v = result_cvar.estimation_processed / d if d != 0 else 0\n",
    "print(\"Exact CVaR:    \\t%.4f\" % exact_cvar)\n",
    "print(\"Estimated CVaR:\\t%.4f\" % (v + var))"
   ]
  },
  {
   "cell_type": "markdown",
   "metadata": {},
   "source": [
    "#References\n",
    "1. https://qiskit.org/documentation/stubs/qiskit.algorithms.IterativeAmplitudeEstimation.html\n",
    "2. https://github.com/qiskit-community/qiskit-finance/blob/stable/0.3/docs/tutorials/00_amplitude_estimation.ipynb\n",
    "3. https://qiskit.org/documentation/tutorials/circuits_advanced/01_advanced_circuits.html\n",
    "4. https://qiskit.org/documentation/_modules/qiskit/circuit/library/arithmetic/linear_amplitude_function.html\n",
    "5. \n",
    "\n",
    "\n",
    "Papers refered:\n",
    "https://arxiv.org/pdf/1907.03044.pdf\n",
    "https://arxiv.org/pdf/1412.1183.pdf\n",
    "file:///Users/neha/Downloads/s41534-019-0130-6%20(1).pdf\n"
   ]
  },
  {
   "cell_type": "raw",
   "metadata": {},
   "source": [
    "# Very important on Quantum Amplitude amplification\n",
    "https://quantum-computing.ibm.com/composer/docs/iqx/guide/grovers-algorithm#amplitude-amplification\n"
   ]
  },
  {
   "cell_type": "code",
   "execution_count": null,
   "metadata": {},
   "outputs": [],
   "source": []
  },
  {
   "cell_type": "code",
   "execution_count": null,
   "metadata": {},
   "outputs": [],
   "source": []
  }
 ],
 "metadata": {
  "celltoolbar": "Tags",
  "kernelspec": {
   "display_name": "Python 3 (ipykernel)",
   "language": "python",
   "name": "python3"
  },
  "language_info": {
   "codemirror_mode": {
    "name": "ipython",
    "version": 3
   },
   "file_extension": ".py",
   "mimetype": "text/x-python",
   "name": "python",
   "nbconvert_exporter": "python",
   "pygments_lexer": "ipython3",
   "version": "3.9.13"
  },
  "varInspector": {
   "cols": {
    "lenName": 16,
    "lenType": 16,
    "lenVar": 40
   },
   "kernels_config": {
    "python": {
     "delete_cmd_postfix": "",
     "delete_cmd_prefix": "del ",
     "library": "var_list.py",
     "varRefreshCmd": "print(var_dic_list())"
    },
    "r": {
     "delete_cmd_postfix": ") ",
     "delete_cmd_prefix": "rm(",
     "library": "var_list.r",
     "varRefreshCmd": "cat(var_dic_list()) "
    }
   },
   "types_to_exclude": [
    "module",
    "function",
    "builtin_function_or_method",
    "instance",
    "_Feature"
   ],
   "window_display": false
  }
 },
 "nbformat": 4,
 "nbformat_minor": 4
}
